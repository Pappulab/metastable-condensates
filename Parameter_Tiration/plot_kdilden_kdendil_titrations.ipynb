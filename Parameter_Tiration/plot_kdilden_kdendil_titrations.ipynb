{
 "cells": [
  {
   "cell_type": "code",
   "execution_count": 83,
   "metadata": {},
   "outputs": [],
   "source": [
    "import pandas as pd\n",
    "import numpy as np\n",
    "import matplotlib.pyplot as plt\n",
    "from matplotlib.colors import LinearSegmentedColormap\n",
    "import seaborn as sbn\n",
    "\n",
    "#colors = [(0.5, 0.5, 0.5), (0.2, 0.2, 0.5)] # first color is black, last is red\n",
    "#colors = ['#ffffff','#d7d7d7','#3b55a5','#6dbe47'] # first color is black, last is red\n",
    "#colors = ['#dddddd','#3b55a5','#6dbe47'] # first color is black, last is red\n",
    "colors = ['#3b55a5','#dddddd','#9a2f20'] # first color is black, last is red\n",
    "cm = LinearSegmentedColormap.from_list(\"Custom\", colors, N=100)\n",
    "\n",
    "plt.rcParams['pdf.fonttype'] = 42 # Makes text editiable\n",
    "plt.rcParams['ps.fonttype'] = 42\n",
    "plt.rcParams['font.sans-serif'] = \"Arial\"\n",
    "plt.rcParams['font.family'] = \"sans-serif\""
   ]
  },
  {
   "cell_type": "code",
   "execution_count": 47,
   "metadata": {},
   "outputs": [
    {
     "name": "stdout",
     "output_type": "stream",
     "text": [
      "     Unnamed: 0  k_de_di  k_di_de            k1            k2  klong  kloss  \\\n",
      "0             0    0.001    0.001  1.150000e-08  4.410000e-09    143      0   \n",
      "1             1    0.001    0.002  1.150000e-08  4.410000e-09    143      0   \n",
      "2             2    0.001    0.005  1.150000e-08  4.410000e-09    143      0   \n",
      "3             3    0.001    0.010  1.150000e-08  4.410000e-09    143      0   \n",
      "4             4    0.001    0.020  1.150000e-08  4.410000e-09    143      0   \n",
      "..          ...      ...      ...           ...           ...    ...    ...   \n",
      "319         319  500.000   20.000  1.150000e-08  4.410000e-09    143      0   \n",
      "320         320  500.000   50.000  1.150000e-08  4.410000e-09    143      0   \n",
      "321         321  500.000  100.000  1.150000e-08  4.410000e-09    143      0   \n",
      "322         322  500.000  200.000  1.150000e-08  4.410000e-09    143      0   \n",
      "323         323  500.000  500.000  1.150000e-08  4.410000e-09    143      0   \n",
      "\n",
      "     conc     t05     t50     t95        s50    tmax       smax  \n",
      "0     200  20.712  70.343   0.000   0.355829  38.073   2.982038  \n",
      "1     200  31.551   0.000   0.000   0.000000  51.847   1.381628  \n",
      "2     200  66.035   0.000   0.000   0.000000  89.146   0.403324  \n",
      "3     200  99.999   0.000   0.000   0.000000  99.999   0.126411  \n",
      "4     200   0.000   0.000   0.000   0.000000  99.999   0.031047  \n",
      "..    ...     ...     ...     ...        ...     ...        ...  \n",
      "319   200  10.609  23.181  36.585  11.076642  23.068  11.078331  \n",
      "320   200  11.221  24.519  38.696  10.472333  24.399  10.473950  \n",
      "321   200  12.241  26.748  42.214   9.599512  26.617   9.600997  \n",
      "322   200  14.281  31.206  49.251   8.228027  31.053   8.229304  \n",
      "323   200  20.402  44.580  70.359   5.759552  44.360   5.760452  \n",
      "\n",
      "[324 rows x 14 columns]\n"
     ]
    }
   ],
   "source": [
    "tmpdf=pd.read_excel('Data_kdil_kden_titration/Parameters_D262N_200_Day1.xlsx')\n",
    "\n",
    "print(tmpdf)"
   ]
  },
  {
   "cell_type": "code",
   "execution_count": 52,
   "metadata": {},
   "outputs": [
    {
     "data": {
      "text/plain": [
       "([<matplotlib.axis.YTick at 0x1530a7ed4810>,\n",
       "  <matplotlib.axis.YTick at 0x1530a7eca8d0>,\n",
       "  <matplotlib.axis.YTick at 0x1530a80a5b10>,\n",
       "  <matplotlib.axis.YTick at 0x1530a7e79e90>,\n",
       "  <matplotlib.axis.YTick at 0x1530a7e6d810>,\n",
       "  <matplotlib.axis.YTick at 0x1530a7e0b610>,\n",
       "  <matplotlib.axis.YTick at 0x1530a7e0bd50>,\n",
       "  <matplotlib.axis.YTick at 0x1530a7e13490>,\n",
       "  <matplotlib.axis.YTick at 0x1530a7e13b90>,\n",
       "  <matplotlib.axis.YTick at 0x1530a7e1d0d0>,\n",
       "  <matplotlib.axis.YTick at 0x1530a7e136d0>,\n",
       "  <matplotlib.axis.YTick at 0x1530a7e79a10>,\n",
       "  <matplotlib.axis.YTick at 0x1530a7e1d790>,\n",
       "  <matplotlib.axis.YTick at 0x1530a7e1de90>,\n",
       "  <matplotlib.axis.YTick at 0x1530a7e275d0>,\n",
       "  <matplotlib.axis.YTick at 0x1530a7e27cd0>,\n",
       "  <matplotlib.axis.YTick at 0x1530a7e32410>,\n",
       "  <matplotlib.axis.YTick at 0x1530a7e27810>],\n",
       " [Text(0, 0.5, '0.001'),\n",
       "  Text(0, 1.5, '0.002'),\n",
       "  Text(0, 2.5, '0.005'),\n",
       "  Text(0, 3.5, '0.01'),\n",
       "  Text(0, 4.5, '0.02'),\n",
       "  Text(0, 5.5, '0.05'),\n",
       "  Text(0, 6.5, '0.1'),\n",
       "  Text(0, 7.5, '0.2'),\n",
       "  Text(0, 8.5, '0.5'),\n",
       "  Text(0, 9.5, '1'),\n",
       "  Text(0, 10.5, '2'),\n",
       "  Text(0, 11.5, '5'),\n",
       "  Text(0, 12.5, '10'),\n",
       "  Text(0, 13.5, '20'),\n",
       "  Text(0, 14.5, '50'),\n",
       "  Text(0, 15.5, '100'),\n",
       "  Text(0, 16.5, '200'),\n",
       "  Text(0, 17.5, '500')])"
      ]
     },
     "execution_count": 52,
     "metadata": {},
     "output_type": "execute_result"
    },
    {
     "data": {
      "image/png": "[encoded data removed]",
      "text/plain": [
       "<Figure size 432x288 with 2 Axes>"
      ]
     },
     "metadata": {
      "needs_background": "light"
     },
     "output_type": "display_data"
    }
   ],
   "source": [
    "t95list=tmpdf['t95'].tolist()\n",
    "\n",
    "titvals=[0.001, 0.002, 0.005, 0.01, 0.02, 0.05, 0.1, 0.2, 0.5, 1, 2, 5, 10, 20, 50, 100, 200, 500]\n",
    "\n",
    "#fig,ax = plt.figure(figsize=(12, 9))\n",
    "data_array = np.zeros((len(titvals), len(titvals)))\n",
    "counter = 0\n",
    "for i in range(len(titvals)):\n",
    "    for j in range(len(titvals)):\n",
    "        data_array[i, j] = t95list[counter]\n",
    "        counter += 1\n",
    "data_array[data_array == 0] = np.nan\n",
    "im = plt.imshow(data_array, origin='lower', cmap = cm, vmin=0, vmax=100)\n",
    "plt.colorbar(im)\n",
    "\n",
    "plt.xlabel('k_dil_den')\n",
    "plt.ylabel('k_den_dil')\n",
    "plt.xticks(np.arange(0.5, len(titvals), 1), titvals,rotation=90)\n",
    "plt.yticks(np.arange(0.5, len(titvals), 1), titvals)"
   ]
  },
  {
   "cell_type": "code",
   "execution_count": 80,
   "metadata": {},
   "outputs": [
    {
     "name": "stdout",
     "output_type": "stream",
     "text": [
      "     Unnamed: 0  k_de_di  k_di_de            k1            k2  klong  kloss  \\\n",
      "0             0    0.001    0.001  1.000000e-08  5.000000e-09    500      0   \n",
      "1             1    0.001    0.002  1.000000e-08  5.000000e-09    500      0   \n",
      "2             2    0.001    0.005  1.000000e-08  5.000000e-09    500      0   \n",
      "3             3    0.001    0.010  1.000000e-08  5.000000e-09    500      0   \n",
      "4             4    0.001    0.020  1.000000e-08  5.000000e-09    500      0   \n",
      "..          ...      ...      ...           ...           ...    ...    ...   \n",
      "220         220   50.000    2.000  1.000000e-08  5.000000e-09    500      0   \n",
      "221         221   50.000    5.000  1.000000e-08  5.000000e-09    500      0   \n",
      "222         222   50.000   10.000  1.000000e-08  5.000000e-09    500      0   \n",
      "223         223   50.000   20.000  1.000000e-08  5.000000e-09    500      0   \n",
      "224         224   50.000   50.000  1.000000e-08  5.000000e-09    500      0   \n",
      "\n",
      "     conc      t05      t50     t95        s50     tmax       smax  \n",
      "0     200   11.406   38.937   0.000   0.412004   20.329   5.842275  \n",
      "1     200   17.372  323.527   0.000   0.099553   27.753   2.670720  \n",
      "2     200   36.431    0.000   0.000   0.000000   46.981   0.738906  \n",
      "3     200   71.863    0.000   0.000   0.000000   78.091   0.271556  \n",
      "4     200  145.201    0.000   0.000   0.000000  255.985   0.138545  \n",
      "..    ...      ...      ...     ...        ...      ...        ...  \n",
      "220   200    5.844   12.269  19.028  21.922912   12.225  21.924887  \n",
      "221   200    6.182   12.977  20.129  20.722835   12.931  20.724711  \n",
      "222   200    6.744   14.158  21.963  18.991028   14.106  18.992829  \n",
      "223   200    7.868   16.519  25.629  16.273169   16.457  16.274779  \n",
      "224   200   11.240   23.599  36.619  11.388835   23.510  11.389986  \n",
      "\n",
      "[225 rows x 14 columns]\n"
     ]
    }
   ],
   "source": [
    "tmpfile='Parameters_200_mix_equil_0'\n",
    "tmpdf=pd.read_excel('Data_kdil_kden_titration/'+tmpfile+'.xlsx')\n",
    "\n",
    "print(tmpdf)"
   ]
  },
  {
   "cell_type": "code",
   "execution_count": 85,
   "metadata": {},
   "outputs": [
    {
     "ename": "AttributeError",
     "evalue": "'QuadMesh' object has no property 'origin'",
     "output_type": "error",
     "traceback": [
      "\u001b[0;31m---------------------------------------------------------------------------\u001b[0m",
      "\u001b[0;31mAttributeError\u001b[0m                            Traceback (most recent call last)",
      "\u001b[0;32m<ipython-input-85-9d75d6c6cabc>\u001b[0m in \u001b[0;36m<module>\u001b[0;34m\u001b[0m\n\u001b[1;32m     17\u001b[0m     \u001b[0;31m#im = plt.imshow(data_array, origin='lower', cmap = 'GnBu', vmin=0, vmax=500)\u001b[0m\u001b[0;34m\u001b[0m\u001b[0;34m\u001b[0m\u001b[0;34m\u001b[0m\u001b[0m\n\u001b[1;32m     18\u001b[0m     \u001b[0;31m#im = plt.imshow(data_array, origin='lower', cmap = cm, vmin=0, vmax=500)\u001b[0m\u001b[0;34m\u001b[0m\u001b[0;34m\u001b[0m\u001b[0;34m\u001b[0m\u001b[0m\n\u001b[0;32m---> 19\u001b[0;31m     \u001b[0msbn\u001b[0m\u001b[0;34m.\u001b[0m\u001b[0mheatmap\u001b[0m\u001b[0;34m(\u001b[0m\u001b[0mdata_array\u001b[0m\u001b[0;34m,\u001b[0m\u001b[0morigin\u001b[0m\u001b[0;34m=\u001b[0m\u001b[0;34m'lower'\u001b[0m\u001b[0;34m,\u001b[0m\u001b[0mcmap\u001b[0m \u001b[0;34m=\u001b[0m \u001b[0mcm\u001b[0m\u001b[0;34m,\u001b[0m \u001b[0mvmin\u001b[0m\u001b[0;34m=\u001b[0m\u001b[0;36m0\u001b[0m\u001b[0;34m,\u001b[0m \u001b[0mvmax\u001b[0m\u001b[0;34m=\u001b[0m\u001b[0;36m500\u001b[0m\u001b[0;34m)\u001b[0m\u001b[0;34m\u001b[0m\u001b[0;34m\u001b[0m\u001b[0m\n\u001b[0m\u001b[1;32m     20\u001b[0m     \u001b[0mplt\u001b[0m\u001b[0;34m.\u001b[0m\u001b[0mcolorbar\u001b[0m\u001b[0;34m(\u001b[0m\u001b[0mim\u001b[0m\u001b[0;34m)\u001b[0m\u001b[0;34m\u001b[0m\u001b[0;34m\u001b[0m\u001b[0m\n\u001b[1;32m     21\u001b[0m \u001b[0;34m\u001b[0m\u001b[0m\n",
      "\u001b[0;32m~/.local/lib/python3.7/site-packages/seaborn/matrix.py\u001b[0m in \u001b[0;36mheatmap\u001b[0;34m(data, vmin, vmax, cmap, center, robust, annot, fmt, annot_kws, linewidths, linecolor, cbar, cbar_kws, cbar_ax, square, xticklabels, yticklabels, mask, ax, **kwargs)\u001b[0m\n\u001b[1;32m    457\u001b[0m     \u001b[0;32mif\u001b[0m \u001b[0msquare\u001b[0m\u001b[0;34m:\u001b[0m\u001b[0;34m\u001b[0m\u001b[0;34m\u001b[0m\u001b[0m\n\u001b[1;32m    458\u001b[0m         \u001b[0max\u001b[0m\u001b[0;34m.\u001b[0m\u001b[0mset_aspect\u001b[0m\u001b[0;34m(\u001b[0m\u001b[0;34m\"equal\"\u001b[0m\u001b[0;34m)\u001b[0m\u001b[0;34m\u001b[0m\u001b[0;34m\u001b[0m\u001b[0m\n\u001b[0;32m--> 459\u001b[0;31m     \u001b[0mplotter\u001b[0m\u001b[0;34m.\u001b[0m\u001b[0mplot\u001b[0m\u001b[0;34m(\u001b[0m\u001b[0max\u001b[0m\u001b[0;34m,\u001b[0m \u001b[0mcbar_ax\u001b[0m\u001b[0;34m,\u001b[0m \u001b[0mkwargs\u001b[0m\u001b[0;34m)\u001b[0m\u001b[0;34m\u001b[0m\u001b[0;34m\u001b[0m\u001b[0m\n\u001b[0m\u001b[1;32m    460\u001b[0m     \u001b[0;32mreturn\u001b[0m \u001b[0max\u001b[0m\u001b[0;34m\u001b[0m\u001b[0;34m\u001b[0m\u001b[0m\n\u001b[1;32m    461\u001b[0m \u001b[0;34m\u001b[0m\u001b[0m\n",
      "\u001b[0;32m~/.local/lib/python3.7/site-packages/seaborn/matrix.py\u001b[0m in \u001b[0;36mplot\u001b[0;34m(self, ax, cax, kws)\u001b[0m\n\u001b[1;32m    304\u001b[0m \u001b[0;34m\u001b[0m\u001b[0m\n\u001b[1;32m    305\u001b[0m         \u001b[0;31m# Draw the heatmap\u001b[0m\u001b[0;34m\u001b[0m\u001b[0;34m\u001b[0m\u001b[0;34m\u001b[0m\u001b[0m\n\u001b[0;32m--> 306\u001b[0;31m         \u001b[0mmesh\u001b[0m \u001b[0;34m=\u001b[0m \u001b[0max\u001b[0m\u001b[0;34m.\u001b[0m\u001b[0mpcolormesh\u001b[0m\u001b[0;34m(\u001b[0m\u001b[0mself\u001b[0m\u001b[0;34m.\u001b[0m\u001b[0mplot_data\u001b[0m\u001b[0;34m,\u001b[0m \u001b[0mcmap\u001b[0m\u001b[0;34m=\u001b[0m\u001b[0mself\u001b[0m\u001b[0;34m.\u001b[0m\u001b[0mcmap\u001b[0m\u001b[0;34m,\u001b[0m \u001b[0;34m**\u001b[0m\u001b[0mkws\u001b[0m\u001b[0;34m)\u001b[0m\u001b[0;34m\u001b[0m\u001b[0;34m\u001b[0m\u001b[0m\n\u001b[0m\u001b[1;32m    307\u001b[0m \u001b[0;34m\u001b[0m\u001b[0m\n\u001b[1;32m    308\u001b[0m         \u001b[0;31m# Set the axis limits\u001b[0m\u001b[0;34m\u001b[0m\u001b[0;34m\u001b[0m\u001b[0;34m\u001b[0m\u001b[0m\n",
      "\u001b[0;32m~/.local/lib/python3.7/site-packages/matplotlib/__init__.py\u001b[0m in \u001b[0;36minner\u001b[0;34m(ax, data, *args, **kwargs)\u001b[0m\n\u001b[1;32m   1412\u001b[0m     \u001b[0;32mdef\u001b[0m \u001b[0minner\u001b[0m\u001b[0;34m(\u001b[0m\u001b[0max\u001b[0m\u001b[0;34m,\u001b[0m \u001b[0;34m*\u001b[0m\u001b[0margs\u001b[0m\u001b[0;34m,\u001b[0m \u001b[0mdata\u001b[0m\u001b[0;34m=\u001b[0m\u001b[0;32mNone\u001b[0m\u001b[0;34m,\u001b[0m \u001b[0;34m**\u001b[0m\u001b[0mkwargs\u001b[0m\u001b[0;34m)\u001b[0m\u001b[0;34m:\u001b[0m\u001b[0;34m\u001b[0m\u001b[0;34m\u001b[0m\u001b[0m\n\u001b[1;32m   1413\u001b[0m         \u001b[0;32mif\u001b[0m \u001b[0mdata\u001b[0m \u001b[0;32mis\u001b[0m \u001b[0;32mNone\u001b[0m\u001b[0;34m:\u001b[0m\u001b[0;34m\u001b[0m\u001b[0;34m\u001b[0m\u001b[0m\n\u001b[0;32m-> 1414\u001b[0;31m             \u001b[0;32mreturn\u001b[0m \u001b[0mfunc\u001b[0m\u001b[0;34m(\u001b[0m\u001b[0max\u001b[0m\u001b[0;34m,\u001b[0m \u001b[0;34m*\u001b[0m\u001b[0mmap\u001b[0m\u001b[0;34m(\u001b[0m\u001b[0msanitize_sequence\u001b[0m\u001b[0;34m,\u001b[0m \u001b[0margs\u001b[0m\u001b[0;34m)\u001b[0m\u001b[0;34m,\u001b[0m \u001b[0;34m**\u001b[0m\u001b[0mkwargs\u001b[0m\u001b[0;34m)\u001b[0m\u001b[0;34m\u001b[0m\u001b[0;34m\u001b[0m\u001b[0m\n\u001b[0m\u001b[1;32m   1415\u001b[0m \u001b[0;34m\u001b[0m\u001b[0m\n\u001b[1;32m   1416\u001b[0m         \u001b[0mbound\u001b[0m \u001b[0;34m=\u001b[0m \u001b[0mnew_sig\u001b[0m\u001b[0;34m.\u001b[0m\u001b[0mbind\u001b[0m\u001b[0;34m(\u001b[0m\u001b[0max\u001b[0m\u001b[0;34m,\u001b[0m \u001b[0;34m*\u001b[0m\u001b[0margs\u001b[0m\u001b[0;34m,\u001b[0m \u001b[0;34m**\u001b[0m\u001b[0mkwargs\u001b[0m\u001b[0;34m)\u001b[0m\u001b[0;34m\u001b[0m\u001b[0;34m\u001b[0m\u001b[0m\n",
      "\u001b[0;32m~/.local/lib/python3.7/site-packages/matplotlib/axes/_axes.py\u001b[0m in \u001b[0;36mpcolormesh\u001b[0;34m(self, alpha, norm, cmap, vmin, vmax, shading, antialiased, *args, **kwargs)\u001b[0m\n\u001b[1;32m   6072\u001b[0m         collection = mcoll.QuadMesh(\n\u001b[1;32m   6073\u001b[0m             \u001b[0mcoords\u001b[0m\u001b[0;34m,\u001b[0m \u001b[0mantialiased\u001b[0m\u001b[0;34m=\u001b[0m\u001b[0mantialiased\u001b[0m\u001b[0;34m,\u001b[0m \u001b[0mshading\u001b[0m\u001b[0;34m=\u001b[0m\u001b[0mshading\u001b[0m\u001b[0;34m,\u001b[0m\u001b[0;34m\u001b[0m\u001b[0;34m\u001b[0m\u001b[0m\n\u001b[0;32m-> 6074\u001b[0;31m             array=C, cmap=cmap, norm=norm, alpha=alpha, **kwargs)\n\u001b[0m\u001b[1;32m   6075\u001b[0m         \u001b[0mcollection\u001b[0m\u001b[0;34m.\u001b[0m\u001b[0m_scale_norm\u001b[0m\u001b[0;34m(\u001b[0m\u001b[0mnorm\u001b[0m\u001b[0;34m,\u001b[0m \u001b[0mvmin\u001b[0m\u001b[0;34m,\u001b[0m \u001b[0mvmax\u001b[0m\u001b[0;34m)\u001b[0m\u001b[0;34m\u001b[0m\u001b[0;34m\u001b[0m\u001b[0m\n\u001b[1;32m   6076\u001b[0m         \u001b[0mself\u001b[0m\u001b[0;34m.\u001b[0m\u001b[0m_pcolor_grid_deprecation_helper\u001b[0m\u001b[0;34m(\u001b[0m\u001b[0;34m)\u001b[0m\u001b[0;34m\u001b[0m\u001b[0;34m\u001b[0m\u001b[0m\n",
      "\u001b[0;32m~/.local/lib/python3.7/site-packages/matplotlib/collections.py\u001b[0m in \u001b[0;36m__init__\u001b[0;34m(self, *args, **kwargs)\u001b[0m\n\u001b[1;32m   2013\u001b[0m         \u001b[0;31m# super init delayed after own init because array kwarg requires\u001b[0m\u001b[0;34m\u001b[0m\u001b[0;34m\u001b[0m\u001b[0;34m\u001b[0m\u001b[0m\n\u001b[1;32m   2014\u001b[0m         \u001b[0;31m# self._coordinates and self._shading\u001b[0m\u001b[0;34m\u001b[0m\u001b[0;34m\u001b[0m\u001b[0;34m\u001b[0m\u001b[0m\n\u001b[0;32m-> 2015\u001b[0;31m         \u001b[0msuper\u001b[0m\u001b[0;34m(\u001b[0m\u001b[0;34m)\u001b[0m\u001b[0;34m.\u001b[0m\u001b[0m__init__\u001b[0m\u001b[0;34m(\u001b[0m\u001b[0;34m**\u001b[0m\u001b[0mkwargs\u001b[0m\u001b[0;34m)\u001b[0m\u001b[0;34m\u001b[0m\u001b[0;34m\u001b[0m\u001b[0m\n\u001b[0m\u001b[1;32m   2016\u001b[0m         \u001b[0mself\u001b[0m\u001b[0;34m.\u001b[0m\u001b[0mmouseover\u001b[0m \u001b[0;34m=\u001b[0m \u001b[0;32mFalse\u001b[0m\u001b[0;34m\u001b[0m\u001b[0;34m\u001b[0m\u001b[0m\n\u001b[1;32m   2017\u001b[0m \u001b[0;34m\u001b[0m\u001b[0m\n",
      "\u001b[0;32m~/.local/lib/python3.7/site-packages/matplotlib/collections.py\u001b[0m in \u001b[0;36m__init__\u001b[0;34m(self, edgecolors, facecolors, linewidths, linestyles, capstyle, joinstyle, antialiaseds, offsets, transOffset, norm, cmap, pickradius, hatch, urls, zorder, **kwargs)\u001b[0m\n\u001b[1;32m    215\u001b[0m \u001b[0;34m\u001b[0m\u001b[0m\n\u001b[1;32m    216\u001b[0m         \u001b[0mself\u001b[0m\u001b[0;34m.\u001b[0m\u001b[0m_path_effects\u001b[0m \u001b[0;34m=\u001b[0m \u001b[0;32mNone\u001b[0m\u001b[0;34m\u001b[0m\u001b[0;34m\u001b[0m\u001b[0m\n\u001b[0;32m--> 217\u001b[0;31m         \u001b[0mself\u001b[0m\u001b[0;34m.\u001b[0m\u001b[0mupdate\u001b[0m\u001b[0;34m(\u001b[0m\u001b[0mkwargs\u001b[0m\u001b[0;34m)\u001b[0m\u001b[0;34m\u001b[0m\u001b[0;34m\u001b[0m\u001b[0m\n\u001b[0m\u001b[1;32m    218\u001b[0m         \u001b[0mself\u001b[0m\u001b[0;34m.\u001b[0m\u001b[0m_paths\u001b[0m \u001b[0;34m=\u001b[0m \u001b[0;32mNone\u001b[0m\u001b[0;34m\u001b[0m\u001b[0;34m\u001b[0m\u001b[0m\n\u001b[1;32m    219\u001b[0m \u001b[0;34m\u001b[0m\u001b[0m\n",
      "\u001b[0;32m~/.local/lib/python3.7/site-packages/matplotlib/artist.py\u001b[0m in \u001b[0;36mupdate\u001b[0;34m(self, props)\u001b[0m\n\u001b[1;32m   1065\u001b[0m                     \u001b[0mfunc\u001b[0m \u001b[0;34m=\u001b[0m \u001b[0mgetattr\u001b[0m\u001b[0;34m(\u001b[0m\u001b[0mself\u001b[0m\u001b[0;34m,\u001b[0m \u001b[0;34mf\"set_{k}\"\u001b[0m\u001b[0;34m,\u001b[0m \u001b[0;32mNone\u001b[0m\u001b[0;34m)\u001b[0m\u001b[0;34m\u001b[0m\u001b[0;34m\u001b[0m\u001b[0m\n\u001b[1;32m   1066\u001b[0m                     \u001b[0;32mif\u001b[0m \u001b[0;32mnot\u001b[0m \u001b[0mcallable\u001b[0m\u001b[0;34m(\u001b[0m\u001b[0mfunc\u001b[0m\u001b[0;34m)\u001b[0m\u001b[0;34m:\u001b[0m\u001b[0;34m\u001b[0m\u001b[0;34m\u001b[0m\u001b[0m\n\u001b[0;32m-> 1067\u001b[0;31m                         raise AttributeError(f\"{type(self).__name__!r} object \"\n\u001b[0m\u001b[1;32m   1068\u001b[0m                                              f\"has no property {k!r}\")\n\u001b[1;32m   1069\u001b[0m                     \u001b[0mret\u001b[0m\u001b[0;34m.\u001b[0m\u001b[0mappend\u001b[0m\u001b[0;34m(\u001b[0m\u001b[0mfunc\u001b[0m\u001b[0;34m(\u001b[0m\u001b[0mv\u001b[0m\u001b[0;34m)\u001b[0m\u001b[0;34m)\u001b[0m\u001b[0;34m\u001b[0m\u001b[0;34m\u001b[0m\u001b[0m\n",
      "\u001b[0;31mAttributeError\u001b[0m: 'QuadMesh' object has no property 'origin'"
     ]
    },
    {
     "data": {
      "image/png": "[encoded data removed]",
      "text/plain": [
       "<Figure size 396x360 with 1 Axes>"
      ]
     },
     "metadata": {
      "needs_background": "light"
     },
     "output_type": "display_data"
    }
   ],
   "source": [
    "myt=['t05','t50','t95']\n",
    "\n",
    "for s in range(0,len(myt)):\n",
    "    tlist=tmpdf[myt[s]].tolist()\n",
    "\n",
    "    titvals=[0.001, 0.002, 0.005, 0.01, 0.02, 0.05, 0.1, 0.2, 0.5, 1, 2, 5, 10, 20, 50]\n",
    "\n",
    "    plt.figure(figsize=(5.5,5))\n",
    "    #fig,ax = plt.figure(figsize=(12, 9))\n",
    "    data_array = np.zeros((len(titvals), len(titvals)))\n",
    "    counter = 0\n",
    "    for i in range(len(titvals)):\n",
    "        for j in range(len(titvals)):\n",
    "            data_array[i, j] = tlist[counter]\n",
    "            counter += 1\n",
    "    data_array[data_array == 0] = np.nan\n",
    "    #im = plt.imshow(data_array, origin='lower', cmap = 'GnBu', vmin=0, vmax=500)\n",
    "    #im = plt.imshow(data_array, origin='lower', cmap = cm, vmin=0, vmax=500)\n",
    "    sbn.heatmap(data_array,origin='lower',cmap = cm, vmin=0, vmax=500)\n",
    "    plt.colorbar(im)\n",
    "\n",
    "    plt.xlabel('kdilden')\n",
    "    plt.ylabel('kdendil')\n",
    "    plt.xticks(np.arange(0, len(titvals), 1), titvals,rotation=90)\n",
    "    plt.yticks(np.arange(0, len(titvals), 1), titvals)\n",
    "    plt.title(myt[s])\n",
    "    \n",
    "    #plt.savefig('Figures_kdil_kden_titration/'+tmpfile+'_'+myt[s]+'.pdf', transparent=True, bbox_inches = \"tight\")"
   ]
  },
  {
   "cell_type": "code",
   "execution_count": null,
   "metadata": {},
   "outputs": [],
   "source": []
  },
  {
   "cell_type": "code",
   "execution_count": null,
   "metadata": {},
   "outputs": [],
   "source": []
  }
 ],
 "metadata": {
  "kernelspec": {
   "display_name": "Python 3",
   "language": "python",
   "name": "python3"
  },
  "language_info": {
   "codemirror_mode": {
    "name": "ipython",
    "version": 3
   },
   "file_extension": ".py",
   "mimetype": "text/x-python",
   "name": "python",
   "nbconvert_exporter": "python",
   "pygments_lexer": "ipython3",
   "version": "3.7.7"
  }
 },
 "nbformat": 4,
 "nbformat_minor": 4
}
