{
 "cells": [
  {
   "cell_type": "code",
   "execution_count": 6,
   "metadata": {},
   "outputs": [],
   "source": [
    "import pandas as pd\n",
    "import numpy as np\n",
    "import matplotlib.pyplot as plt"
   ]
  },
  {
   "cell_type": "code",
   "execution_count": 13,
   "metadata": {},
   "outputs": [
    {
     "name": "stdout",
     "output_type": "stream",
     "text": [
      "     Unnamed: 0  k_de_di  k_di_de            k1            k2  klong  kloss  \\\n",
      "0             0    0.001    0.001  1.150000e-08  4.410000e-09    143      0   \n",
      "1             1    0.001    0.002  1.150000e-08  4.410000e-09    143      0   \n",
      "2             2    0.001    0.005  1.150000e-08  4.410000e-09    143      0   \n",
      "3             3    0.001    0.010  1.150000e-08  4.410000e-09    143      0   \n",
      "4             4    0.001    0.020  1.150000e-08  4.410000e-09    143      0   \n",
      "..          ...      ...      ...           ...           ...    ...    ...   \n",
      "319         319  500.000   20.000  1.150000e-08  4.410000e-09    143      0   \n",
      "320         320  500.000   50.000  1.150000e-08  4.410000e-09    143      0   \n",
      "321         321  500.000  100.000  1.150000e-08  4.410000e-09    143      0   \n",
      "322         322  500.000  200.000  1.150000e-08  4.410000e-09    143      0   \n",
      "323         323  500.000  500.000  1.150000e-08  4.410000e-09    143      0   \n",
      "\n",
      "     conc     t05     t50     t95        s50    tmax       smax  \n",
      "0     200  20.712   0.000   0.000   0.000000  38.073   2.982038  \n",
      "1     200  31.551   0.000   0.000   0.000000  49.999   1.374785  \n",
      "2     200   0.000   0.000   0.000   0.000000  49.999   0.239873  \n",
      "3     200   0.000   0.000   0.000   0.000000  49.999   0.058258  \n",
      "4     200   0.000   0.000   0.000   0.000000  49.999   0.015011  \n",
      "..    ...     ...     ...     ...        ...     ...        ...  \n",
      "319   200  10.609  23.181  36.585  11.076642  23.068  11.078331  \n",
      "320   200  11.221  24.519  38.696  10.472333  24.399  10.473950  \n",
      "321   200  12.241  26.748  42.214   9.599512  26.617   9.600997  \n",
      "322   200  14.281  31.206  49.251   8.228027  31.053   8.229304  \n",
      "323   200  20.402  44.580   0.000   5.759552  44.360   5.760452  \n",
      "\n",
      "[324 rows x 14 columns]\n"
     ]
    }
   ],
   "source": [
    "tmpdf=pd.read_excel('Data_kdil_kden_titration/Parameters_D262N.xlsx')\n",
    "\n",
    "print(tmpdf)"
   ]
  },
  {
   "cell_type": "code",
   "execution_count": 16,
   "metadata": {},
   "outputs": [
    {
     "data": {
      "text/plain": [
       "Text(0, 0.5, 'k_den_dil')"
      ]
     },
     "execution_count": 16,
     "metadata": {},
     "output_type": "execute_result"
    },
    {
     "data": {
      "image/png": "[encoded data removed]",
      "text/plain": [
       "<Figure size 432x288 with 2 Axes>"
      ]
     },
     "metadata": {
      "needs_background": "light"
     },
     "output_type": "display_data"
    }
   ],
   "source": [
    "t95list=tmpdf['t95'].tolist()\n",
    "\n",
    "titvals=[0.001, 0.002, 0.005, 0.01, 0.02, 0.05, 0.1, 0.2, 0.5, 1, 2, 5, 10, 20, 50, 100, 200, 500]\n",
    "\n",
    "#fig,ax = plt.figure(figsize=(12, 9))\n",
    "data_array = np.zeros((len(titvals), len(titvals)))\n",
    "counter = 0\n",
    "for i in range(len(titvals)):\n",
    "    for j in range(len(titvals)):\n",
    "        data_array[i, j] = t95list[counter]\n",
    "        counter += 1\n",
    "data_array[data_array == 0] = np.nan\n",
    "im = plt.imshow(data_array, origin='lower', cmap = 'GnBu', vmin=0, vmax=100)\n",
    "plt.colorbar(im)\n",
    "\n",
    "plt.xlabel('k_dil_den')\n",
    "plt.ylabel('k_den_dil')"
   ]
  },
  {
   "cell_type": "code",
   "execution_count": null,
   "metadata": {},
   "outputs": [],
   "source": []
  }
 ],
 "metadata": {
  "kernelspec": {
   "display_name": "Python 3",
   "language": "python",
   "name": "python3"
  },
  "language_info": {
   "codemirror_mode": {
    "name": "ipython",
    "version": 3
   },
   "file_extension": ".py",
   "mimetype": "text/x-python",
   "name": "python",
   "nbconvert_exporter": "python",
   "pygments_lexer": "ipython3",
   "version": "3.7.7"
  }
 },
 "nbformat": 4,
 "nbformat_minor": 4
}
